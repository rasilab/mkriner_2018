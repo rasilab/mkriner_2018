{
 "cells": [
  {
   "cell_type": "code",
   "execution_count": 1,
   "metadata": {},
   "outputs": [
    {
     "name": "stderr",
     "output_type": "stream",
     "text": [
      "── Attaching packages ─────────────────────────────────────── tidyverse 1.2.1 ──\n",
      "✔ ggplot2 2.2.1     ✔ purrr   0.2.4\n",
      "✔ tibble  1.4.2     ✔ dplyr   0.7.5\n",
      "✔ tidyr   0.8.1     ✔ stringr 1.3.1\n",
      "✔ readr   1.1.1     ✔ forcats 0.3.0\n",
      "── Conflicts ────────────────────────────────────────── tidyverse_conflicts() ──\n",
      "✖ tidyr::extract()   masks magrittr::extract()\n",
      "✖ dplyr::filter()    masks stats::filter()\n",
      "✖ dplyr::lag()       masks stats::lag()\n",
      "✖ purrr::set_names() masks magrittr::set_names()\n"
     ]
    }
   ],
   "source": [
    "library(magrittr)\n",
    "library(tidyverse)\n",
    "library(rasilabRtemplates)"
   ]
  },
  {
   "cell_type": "code",
   "execution_count": 2,
   "metadata": {},
   "outputs": [
    {
     "name": "stderr",
     "output_type": "stream",
     "text": [
      "Warning message:\n",
      "“Missing column names filled in: 'X1' [1]”Parsed with column specification:\n",
      "cols(\n",
      "  X1 = col_integer(),\n",
      "  Area = col_integer(),\n",
      "  strain = col_character(),\n",
      "  time = col_character()\n",
      ")\n"
     ]
    }
   ],
   "source": [
    "# import data\n",
    "data <- read_csv('../data/microscopy/cellsizes.csv') %>%\n",
    "  mutate(strain = factor(strain, levels=c('wild-type', 'sdaCB-')))"
   ]
  },
  {
   "cell_type": "code",
   "execution_count": 5,
   "metadata": {},
   "outputs": [
    {
     "data": {},
     "metadata": {},
     "output_type": "display_data"
    },
    {
     "data": {
      "image/png": "[encoded data removed]",
      "text/plain": [
       "plot without title"
      ]
     },
     "metadata": {},
     "output_type": "display_data"
    }
   ],
   "source": [
    "# make boxplot\n",
    "plot.width = 2.2\n",
    "plot.height = 1.8\n",
    "options(repr.plot.width=plot.width, repr.plot.height=plot.height)\n",
    "\n",
    "ggplot(data, aes(x=strain, y=Area)) +\n",
    "geom_boxplot() +\n",
    "facet_wrap(~time) + \n",
    "labs(y = \"cell area (a.u.)\") +\n",
    "theme(legend.position='none')\n",
    "\n",
    "ggsave('../pdf/fig_2c.pdf', width = plot.width, height = plot.height, units = 'in', device=cairo_pdf)"
   ]
  },
  {
   "cell_type": "code",
   "execution_count": null,
   "metadata": {},
   "outputs": [],
   "source": []
  }
 ],
 "metadata": {
  "kernelspec": {
   "display_name": "R",
   "language": "R",
   "name": "ir"
  },
  "language_info": {
   "codemirror_mode": "r",
   "file_extension": ".r",
   "mimetype": "text/x-r-source",
   "name": "R",
   "pygments_lexer": "r",
   "version": "3.4.4"
  },
  "toc": {
   "colors": {
    "hover_highlight": "#DAA520",
    "running_highlight": "#FF0000",
    "selected_highlight": "#FFD700"
   },
   "moveMenuLeft": true,
   "nav_menu": {
    "height": "12px",
    "width": "252px"
   },
   "navigate_menu": true,
   "number_sections": true,
   "sideBar": true,
   "threshold": 4,
   "toc_cell": false,
   "toc_section_display": "block",
   "toc_window_display": false,
   "widenNotebook": false
  }
 },
 "nbformat": 4,
 "nbformat_minor": 2
}
